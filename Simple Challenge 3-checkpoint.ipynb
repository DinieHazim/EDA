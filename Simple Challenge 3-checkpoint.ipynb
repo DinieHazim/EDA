{
 "cells": [
  {
   "cell_type": "code",
   "execution_count": 211,
   "metadata": {},
   "outputs": [
    {
     "name": "stdout",
     "output_type": "stream",
     "text": [
      "[1 0 0 1 1 1 0 1 0 1 1 1 1 1 1 1 1 1 1 1 0 1 0 0 1 1 1 1 1 1 1 0 1 1 1 1 0\n",
      " 0 0 1 1 1 1 1 1 1 1 1 1 1 1 0 0 0 0 0 1 1 1 1 1 1 1 0 0 0 1 1 1 1]\n",
      "\n",
      "['Ali' 'Ahmad' 'Beng' 'Chris' 'Sita' 'Marion' 'Stephen' 'Cobby' 'Akmal'\n",
      " 'Nita']\n",
      "\n",
      "['Sunday' 'Monday' 'Tuesday' 'Wednesday' 'Thursday' 'Friday' 'Saturday']\n"
     ]
    }
   ],
   "source": [
    "import numpy as np\n",
    "\n",
    "attendance = np.array([1,0,0,1,1,1,0,1,0,1,1,1,1,1,1,1,1,1,1,1,0,1,0,0,1,1,1,1,1,1,1,0,1,1,1,1,0,0,0,1,1,1,1,1,1,1,1,1,1,1,1,0,0,0,0,0,1,1,1,1,1,1,1,0,0,0,1,1,1,1])\n",
    "name_list = np.array([\"Ali\",\"Ahmad\",\"Beng\",\"Chris\",\"Sita\",\"Marion\",\"Stephen\",\"Cobby\",\"Akmal\",\"Nita\"])\n",
    "day_list = np.array([\"Sunday\",\"Monday\",\"Tuesday\",\"Wednesday\",\"Thursday\",\"Friday\",\"Saturday\"])\n",
    "\n",
    "print(attendance)\n",
    "print()\n",
    "print(name_list)\n",
    "print()\n",
    "print(day_list)"
   ]
  },
  {
   "cell_type": "markdown",
   "metadata": {},
   "source": [
    "## Description of the data:\n",
    "Given a list of attendance data of an event for 10 students for 1 week where **1 indicates the student attends** for the event, while **0 indicates the student is absent**. The data is given in a simple list described as follows:\n",
    "\n",
    "<br>\n",
    "<img src=\"F1.png\">\n",
    "\n",
    "The namelist and the daylist also given. The order of the day and name in the attendance data are complement to both variables. "
   ]
  },
  {
   "cell_type": "code",
   "execution_count": 212,
   "metadata": {},
   "outputs": [
    {
     "name": "stdout",
     "output_type": "stream",
     "text": [
      "[[1 1 0 1 1 1 1]\n",
      " [0 1 1 0 1 0 1]\n",
      " [0 1 0 1 1 0 1]\n",
      " [1 1 0 1 1 0 0]\n",
      " [1 1 1 1 1 0 0]\n",
      " [1 1 1 1 1 0 0]\n",
      " [0 1 1 0 1 1 1]\n",
      " [1 1 1 0 1 1 1]\n",
      " [0 1 1 0 1 1 1]\n",
      " [1 1 1 1 1 1 1]]\n"
     ]
    }
   ],
   "source": [
    "# Now, based on the given attendance data, create a 2D numpy array (named: attendance_arr) where:\n",
    "# ROW represents each student\n",
    "# COLUMN represents each day\n",
    "# Write the code at below:\n",
    "# name_list = name_list.reshape(10,1)\n",
    "attendance_arr = attendance.reshape((7,10)).T\n",
    "print(attendance_arr)\n",
    "# print(attendance)\n",
    "# print(attendance_arr)\n",
    "# attendance_arr = np.hstack(( name_list,attendance.T))\n",
    "# attendance_arr[1][0]\n"
   ]
  },
  {
   "cell_type": "code",
   "execution_count": 213,
   "metadata": {},
   "outputs": [
    {
     "name": "stdout",
     "output_type": "stream",
     "text": [
      "(array(['Ali', 'Sita', 'Marion', 'Stephen', 'Cobby', 'Akmal', 'Nita'],\n",
      "      dtype='<U7'), array([6, 5, 5, 5, 6, 5, 7]))\n"
     ]
    }
   ],
   "source": [
    "# Write a fuction that returns the list of names, and their corresponding total attendance based on a filter\n",
    "# The function should accept at least ONE argument, which is the no. of days. You should return the results\n",
    "# filtered based on the no. of days. \n",
    "# E.g.: get the names and their total attendance for those who attended more than 4 days\n",
    "\n",
    "def DayCalc(days):\n",
    "#     name =[]\n",
    "#     total_day = np.sum(attendance, axis = 0)\n",
    "#     count = 0\n",
    "#     print(total_day)\n",
    "#     for idx,j in enumerate(total_day):\n",
    "#             if j > days or j == 7:\n",
    "#                 name.append(attendance_arr[idx][0])\n",
    "#     return name\n",
    "\n",
    "    total = attendance_arr.sum(axis=1)\n",
    "    index = np.where(total>days)\n",
    "    for i in index:\n",
    "        return name_list[i], total[i]\n",
    "\n",
    "print(DayCalc(4))\n",
    "    \n",
    "    "
   ]
  },
  {
   "cell_type": "code",
   "execution_count": 214,
   "metadata": {},
   "outputs": [
    {
     "name": "stdout",
     "output_type": "stream",
     "text": [
      "[[0 1 1 0 1 1 1]]\n"
     ]
    }
   ],
   "source": [
    "# Write a function that returns the 7-day attendance for a specific person.\n",
    "# The function should accept at least ONE argument, which is the name of the person. You should return the results\n",
    "# based on the name.\n",
    "# E.g.: get the 7-day attendance for \"Akmal\"\n",
    "def sevDay(student):\n",
    "    index = np.where(name_list == student)\n",
    "    return attendance_arr[index]\n",
    "#     new_l = []\n",
    "#     for sev in attendance_arr:\n",
    "#         new_l.append(sev[7])\n",
    "#     sevDays = 0\n",
    "#     for idx, i in enumerate(new_l):\n",
    "#         if attendance_arr[idx][0] == student:  \n",
    "#             sevDays = int(new_l[idx])\n",
    "#     return '{} attendance\\'s status on 7 day: {}'.format(student ,sevDays)\n",
    "print(sevDay('Akmal'))"
   ]
  },
  {
   "cell_type": "code",
   "execution_count": 215,
   "metadata": {},
   "outputs": [
    {
     "data": {
      "text/plain": [
       "(array(['Sunday', 'Monday', 'Tuesday', 'Wednesday', 'Thursday', 'Saturday'],\n",
       "       dtype='<U9'),\n",
       " array([ 6, 10,  7,  6, 10,  7]))"
      ]
     },
     "execution_count": 215,
     "metadata": {},
     "output_type": "execute_result"
    }
   ],
   "source": [
    "# Write a fuction that returns the list of days, and the corresponding total attendance based on a filter\n",
    "# The function should accept at least ONE argument, which is the no. of attendees. You should return the results\n",
    "# filtered based on the no. of attendees. \n",
    "# E.g.: get the list of days and the total attendance for where if the attendees exceed 5 people.\n",
    "\n",
    "def Att(no_att):\n",
    "#     result =[]\n",
    "#     daySum = np.sum(attendance, axis = 1)\n",
    "#     print(daySum)\n",
    "#     for idx, i in enumerate(daySum):\n",
    "#         if i > no_att:\n",
    "#              result.append([day_list[idx],(i)])\n",
    "    total = attendance_arr.sum(axis = 0)\n",
    "    index = np.where(total > no_att)\n",
    "    for i in index:\n",
    "        return day_list[i], total[i]\n",
    "\n",
    "Att(5)"
   ]
  },
  {
   "cell_type": "code",
   "execution_count": 219,
   "metadata": {},
   "outputs": [
    {
     "data": {
      "text/plain": [
       "array([ 60., 100.,  70.,  60., 100.,  50.,  70.])"
      ]
     },
     "execution_count": 219,
     "metadata": {},
     "output_type": "execute_result"
    }
   ],
   "source": [
    "# Write a function that returns the percentage of attendance for each day.\n",
    "\n",
    "def PercentDays():\n",
    "#      daySum = np.sum(attendance, axis = 1)\n",
    "#      total = np.array([(x/10)*100 for x in daySum])\n",
    "#      total = total.reshape(7,1)\n",
    "#      days = day_list.reshape(7,1)\n",
    "#      result= np.hstack((days,total))\n",
    "#      return result\n",
    "    total = attendance_arr.sum(axis=0)\n",
    "    row, col = attendance_arr.shape\n",
    "    return total/row*100\n",
    "PercentDays()\n"
   ]
  },
  {
   "cell_type": "code",
   "execution_count": 221,
   "metadata": {},
   "outputs": [
    {
     "name": "stdout",
     "output_type": "stream",
     "text": [
      "[ 85.71428571  57.14285714  57.14285714  57.14285714  71.42857143\n",
      "  71.42857143  71.42857143  85.71428571  71.42857143 100.        ]\n"
     ]
    }
   ],
   "source": [
    "# Write a function that returns the percentage of attendance for each student.\n",
    "def PercentStudent():\n",
    "#     studSum = np.sum(attendance, axis = 0)\n",
    "#     total = np.array([(i/10)*100 for i in studSum]).reshape(1,10)\n",
    "#     stud = name_list.reshape(1,10)\n",
    "#     return np.vstack((stud,total))\n",
    "    total = attendance_arr.sum(axis=1)\n",
    "    row, col = attendance_arr.shape\n",
    "    return total/col*100\n",
    "\n",
    "print(PercentStudent())"
   ]
  },
  {
   "cell_type": "code",
   "execution_count": null,
   "metadata": {},
   "outputs": [],
   "source": []
  }
 ],
 "metadata": {
  "kernelspec": {
   "display_name": "Python 3 (ipykernel)",
   "language": "python",
   "name": "python3"
  },
  "language_info": {
   "codemirror_mode": {
    "name": "ipython",
    "version": 3
   },
   "file_extension": ".py",
   "mimetype": "text/x-python",
   "name": "python",
   "nbconvert_exporter": "python",
   "pygments_lexer": "ipython3",
   "version": "3.9.13"
  }
 },
 "nbformat": 4,
 "nbformat_minor": 4
}
